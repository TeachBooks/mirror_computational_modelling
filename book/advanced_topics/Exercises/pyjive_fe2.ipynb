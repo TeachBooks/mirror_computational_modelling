{
 "cells": [
  {
   "cell_type": "markdown",
   "id": "d36f341c-9c28-4db3-bbbc-73f718ad961f",
   "metadata": {},
   "source": [
    "# PyJive workshop: FE$^2$"
   ]
  },
  {
   "cell_type": "code",
   "execution_count": null,
   "id": "c796dda8-d59e-4009-bdf0-49c733c0cc52",
   "metadata": {},
   "outputs": [],
   "source": [
    "import sys\n",
    "import numpy as np\n",
    "sys.path.append('../../../pyjive')\n",
    "\n",
    "import main\n",
    "from utils import proputils as pu\n",
    "from names import GlobNames as gn\n",
    "\n",
    "%matplotlib widget"
   ]
  },
  {
   "cell_type": "code",
   "execution_count": null,
   "id": "b42b8793-adbc-4d4d-85b2-ad5b70af7dc4",
   "metadata": {},
   "outputs": [],
   "source": [
    "import contextlib\n",
    "import os\n",
    "from urllib.request import urlretrieve\n",
    "\n",
    "def findfile(fname):\n",
    "    url = \"https://gitlab.tudelft.nl/cm/public/drive/-/raw/main/fe2workshop/\" + fname + \"?inline=false\"\n",
    "    if not os.path.isfile(fname):\n",
    "        print(f\"Downloading {fname}...\")\n",
    "        urlretrieve(url, fname)\n",
    "\n",
    "findfile(\"macro.pro\")\n",
    "findfile(\"micro.pro\")\n",
    "findfile(\"dogbone.msh\")\n",
    "findfile(\"unitCell.msh\")"
   ]
  },
  {
   "cell_type": "markdown",
   "id": "de042132-00b5-45f9-b73c-73e49f81d644",
   "metadata": {},
   "source": [
    "### Run multiscale analysis\n",
    "\n",
    "<div style=\"background-color:#AABAB2; color: black; vertical-align: middle; padding:15px; margin: 10px; border-radius: 10px\">\n",
    "<p>\n",
    "<b>Task 1: Run predefined problem</b>   \n",
    "\n",
    "Run the two-scale problem by executing the cell below. The case is that of a dog-bone specimen in uniaxial tension on the macroscale, linked to a unit-cell micromodel with FE$^2$. Coarse meshes are provided for both scales, and only a small number of time steps is executed to limit the runtime.\n",
    "\n",
    "</p>\n",
    "</div>"
   ]
  },
  {
   "cell_type": "code",
   "execution_count": null,
   "id": "49a4d10d-7d90-4ea2-9084-bca0eae9d73b",
   "metadata": {},
   "outputs": [],
   "source": [
    "globdat = main.jive(pu.parse_file('macro.pro'))"
   ]
  },
  {
   "cell_type": "markdown",
   "id": "5925421e-119b-49e5-a024-529e717b86c7",
   "metadata": {},
   "source": [
    "<div style=\"background-color:#AABAB2; color: black; vertical-align: middle; padding:15px; margin: 10px; border-radius: 10px\">\n",
    "<p>\n",
    "<b>Task 2: Inspect the code</b>   \n",
    "\n",
    "Answer the following questions\n",
    "- Which part of the main input file `macro.pro` defines that a two-scale problem is solved?\n",
    "- The macroscale input file is read on the notebook, how is the microscale input file processed?\n",
    "- Can you find how the macrostrain is imposed on the micromodel and how the homogenized microstress is returned to the macroscale? \n",
    "\n",
    "</p>\n",
    "</div>"
   ]
  },
  {
   "cell_type": "markdown",
   "id": "41197c9e-650c-4409-993c-77c4dab5057a",
   "metadata": {},
   "source": [
    "### Visualize results\n",
    "The resulting displacement field and its evolution can be visualized on the macroscale"
   ]
  },
  {
   "cell_type": "code",
   "execution_count": null,
   "id": "f9e6d929",
   "metadata": {},
   "outputs": [],
   "source": [
    "viewmodule = globdat[gn.MODULEFACTORY].get_module('View','view')\n",
    "\n",
    "viewprops = { 'view': {}}\n",
    "viewprops['view']['plot'] = 'solution[dx]'\n",
    "viewprops['view']['interactive'] = 'True'\n",
    "viewprops['view']['constantLevels'] = 'False'\n",
    "viewprops['view']['constantTicks'] = 'True'\n",
    "viewprops['view']['step0'] = 3\n",
    "viewprops['view']['ncolors'] = 10\n",
    "\n",
    "viewmodule.init(viewprops, globdat)\n",
    "viewmodule.plot(globdat)"
   ]
  },
  {
   "cell_type": "markdown",
   "id": "0d0892c7-d2e9-4330-95e1-55c545cfb8d6",
   "metadata": {},
   "source": [
    "And also on the microscale"
   ]
  },
  {
   "cell_type": "code",
   "execution_count": null,
   "id": "76abf9db-9822-456d-8f09-9322939fbc7f",
   "metadata": {},
   "outputs": [],
   "source": [
    "microglobdats = globdat[gn.MODEL]._models[0]._mat._globdats\n",
    "viewmodule.init(viewprops, microglobdats[0])\n",
    "viewmodule.plot(microglobdats[0])"
   ]
  },
  {
   "cell_type": "markdown",
   "id": "8c3a1e56-82cd-4f27-9cfc-d364f53b8d63",
   "metadata": {},
   "source": [
    "<div style=\"background-color:#AABAB2; color: black; vertical-align: middle; padding:15px; margin: 10px; border-radius: 10px\">\n",
    "<p>\n",
    "<b>Task 3: Inspect the results</b>   \n",
    "\n",
    "The cells above generate visualizations from both scales. \n",
    "\n",
    "- The microscale visualization is plotting results for one selected micromodel. Can you also plot results for a different one? \n",
    "- For the macroscale, the number of time steps agrees with what is specified in the input file. For the microscale, that is not the case. What defines the number of time steps that is plotted for the microscale? (**tip**: Results are stored in `globdat` every time the `NonlinModule` reaches the end of its run function, this is somewhat hidden, but done by the `ControlModule` which is the base class of the `NonlinModule`)\n",
    "\n",
    "</p>\n",
    "</div>"
   ]
  },
  {
   "cell_type": "markdown",
   "id": "5f7b7989-e316-468e-b8ae-e8f8a6c8adb6",
   "metadata": {},
   "source": [
    "<div style=\"background-color:#AABAB2; color: black; vertical-align: middle; padding:15px; margin: 10px; border-radius: 10px\">\n",
    "<p>\n",
    "<b>Task 4: A missing feature in the present implementation</b>   \n",
    "\n",
    "Although the simulation is defined as a nonlinear one, it remains in the linear regime. In fact, the provided code is not entirely suitable for performing nonlinear simulations. There is an issue with how material history is stored. In the regular nonlinear finite element workflow in `pyjive`, the action `COMMIT` takes care of storing history. \n",
    "\n",
    "- At what point in the nonlinear solution algorithm is the `COMMIT` action taken for a single scale simulation? \n",
    "- What would need to be done to get consistent behavior for  a nonlinear two-scale simulation?\n",
    "\n",
    "</p>\n",
    "</div>"
   ]
  },
  {
   "cell_type": "code",
   "execution_count": null,
   "id": "0925daa4-40b7-4b19-b3c0-28c7a0be977c",
   "metadata": {},
   "outputs": [],
   "source": []
  }
 ],
 "metadata": {
  "kernelspec": {
   "display_name": "Python 3 (ipykernel)",
   "language": "python",
   "name": "python3"
  },
  "language_info": {
   "codemirror_mode": {
    "name": "ipython",
    "version": 3
   },
   "file_extension": ".py",
   "mimetype": "text/x-python",
   "name": "python",
   "nbconvert_exporter": "python",
   "pygments_lexer": "ipython3",
   "version": "3.10.12"
  },
  "vscode": {
   "interpreter": {
    "hash": "2f56e53acab938e533261baa35aac2c581caa9f2f4a01ed69448e50e809c0ddc"
   }
  }
 },
 "nbformat": 4,
 "nbformat_minor": 5
}
